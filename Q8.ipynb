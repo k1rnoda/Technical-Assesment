{
 "cells": [
  {
   "cell_type": "code",
   "execution_count": 1,
   "id": "1727e5e8-9a01-4d63-b1c9-38b505e65ef4",
   "metadata": {},
   "outputs": [],
   "source": [
    "import pandas as pd\n",
    "import re"
   ]
  },
  {
   "cell_type": "code",
   "execution_count": 2,
   "id": "0b9318e0-623d-46d2-9ad5-677f9012e0e3",
   "metadata": {},
   "outputs": [
    {
     "data": {
      "text/plain": [
       "<bound method NDFrame.head of   Device_Type                            Stats_Access_Link\n",
       "0      AXO145  <url>https://xcd32112.smart_meter.com</url>\n",
       "1      TRU151       <url>https://tXh67.dia_meter.com</url>\n",
       "2      ZOD231    <url>https://yT5495.smart_meter.com</url>\n",
       "3      YRT326      <url>https://ret323_Tru.crown.com</url>\n",
       "4      LWR245      <url>https://luwr3243.celcius.com</url>>"
      ]
     },
     "execution_count": 2,
     "metadata": {},
     "output_type": "execute_result"
    }
   ],
   "source": [
    "df = pd.read_csv('ex.csv')\n",
    "df.head"
   ]
  },
  {
   "cell_type": "code",
   "execution_count": 3,
   "id": "36596186-885e-48f7-b8cb-46da391f64e1",
   "metadata": {},
   "outputs": [],
   "source": [
    "# Define a regular expression pattern to match the desired URL format\n",
    "pattern = r'[a-z0-9_\\.]+(?=:[0-9]+)?(?=/)'"
   ]
  },
  {
   "cell_type": "code",
   "execution_count": 4,
   "id": "8f0b101b-e32d-4f74-8a32-aca8bf709511",
   "metadata": {},
   "outputs": [],
   "source": [
    "# Define a function to extract the URL information for a given device type\n",
    "def extract_url_by_device_type(df, device_type):\n",
    "    # Filter the DataFrame by device type\n",
    "    filtered_df = df[df['Device_Type'] == device_type]\n",
    "    \n",
    "    # Extract the URL information for each row in the filtered DataFrame\n",
    "    urls = []\n",
    "    for access_link in filtered_df['Stats_Access_Link']:\n",
    "        # Use regular expressions to find the URL pattern in the access link\n",
    "        match = re.search(pattern, access_link.lower())\n",
    "        if match:\n",
    "            urls.append(match.group())\n",
    "        else:\n",
    "            urls.append(None)\n",
    "    \n",
    "    # Add the URL information as a new column in the filtered DataFrame\n",
    "    filtered_df['URL'] = urls\n",
    "    \n",
    "    # Replace missing values with zero for devices with no URL information\n",
    "    filtered_df.fillna(value={'URL': 0}, inplace=True)\n",
    "    \n",
    "    return filtered_df\n"
   ]
  },
  {
   "cell_type": "code",
   "execution_count": 5,
   "id": "52f5a3aa-4ca5-4289-82b5-a95aff5f4823",
   "metadata": {},
   "outputs": [
    {
     "name": "stderr",
     "output_type": "stream",
     "text": [
      "C:\\Users\\Burcu\\AppData\\Local\\Temp/ipykernel_10012/1859054851.py:17: SettingWithCopyWarning: \n",
      "A value is trying to be set on a copy of a slice from a DataFrame.\n",
      "Try using .loc[row_indexer,col_indexer] = value instead\n",
      "\n",
      "See the caveats in the documentation: https://pandas.pydata.org/pandas-docs/stable/user_guide/indexing.html#returning-a-view-versus-a-copy\n",
      "  filtered_df['URL'] = urls\n",
      "C:\\Users\\Burcu\\AppData\\Roaming\\Python\\Python39\\site-packages\\pandas\\core\\generic.py:6392: SettingWithCopyWarning: \n",
      "A value is trying to be set on a copy of a slice from a DataFrame\n",
      "\n",
      "See the caveats in the documentation: https://pandas.pydata.org/pandas-docs/stable/user_guide/indexing.html#returning-a-view-versus-a-copy\n",
      "  return self._update_inplace(result)\n"
     ]
    },
    {
     "data": {
      "text/html": [
       "<div>\n",
       "<style scoped>\n",
       "    .dataframe tbody tr th:only-of-type {\n",
       "        vertical-align: middle;\n",
       "    }\n",
       "\n",
       "    .dataframe tbody tr th {\n",
       "        vertical-align: top;\n",
       "    }\n",
       "\n",
       "    .dataframe thead th {\n",
       "        text-align: right;\n",
       "    }\n",
       "</style>\n",
       "<table border=\"1\" class=\"dataframe\">\n",
       "  <thead>\n",
       "    <tr style=\"text-align: right;\">\n",
       "      <th></th>\n",
       "      <th>Device_Type</th>\n",
       "      <th>Stats_Access_Link</th>\n",
       "      <th>URL</th>\n",
       "    </tr>\n",
       "  </thead>\n",
       "  <tbody>\n",
       "    <tr>\n",
       "      <th>0</th>\n",
       "      <td>AXO145</td>\n",
       "      <td>&lt;url&gt;https://xcd32112.smart_meter.com&lt;/url&gt;</td>\n",
       "      <td>0</td>\n",
       "    </tr>\n",
       "  </tbody>\n",
       "</table>\n",
       "</div>"
      ],
      "text/plain": [
       "  Device_Type                            Stats_Access_Link  URL\n",
       "0      AXO145  <url>https://xcd32112.smart_meter.com</url>    0"
      ]
     },
     "execution_count": 5,
     "metadata": {},
     "output_type": "execute_result"
    }
   ],
   "source": [
    "extract_url_by_device_type(df, 'AXO145')"
   ]
  },
  {
   "cell_type": "code",
   "execution_count": null,
   "id": "a89e9ba9-f65d-44e5-8af2-c97c05ddca86",
   "metadata": {},
   "outputs": [],
   "source": []
  }
 ],
 "metadata": {
  "kernelspec": {
   "display_name": "Python 3 (ipykernel)",
   "language": "python",
   "name": "python3"
  },
  "language_info": {
   "codemirror_mode": {
    "name": "ipython",
    "version": 3
   },
   "file_extension": ".py",
   "mimetype": "text/x-python",
   "name": "python",
   "nbconvert_exporter": "python",
   "pygments_lexer": "ipython3",
   "version": "3.9.6"
  }
 },
 "nbformat": 4,
 "nbformat_minor": 5
}
